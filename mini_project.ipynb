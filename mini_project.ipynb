{
  "nbformat": 4,
  "nbformat_minor": 0,
  "metadata": {
    "colab": {
      "name": "mini_project.ipynb",
      "provenance": [],
      "collapsed_sections": [],
      "toc_visible": true,
      "mount_file_id": "1w76W212UfTGxVrnUBYw48y0fgTQMgb9C",
      "authorship_tag": "ABX9TyNw7W/eziczz+yIz6J0dARF",
      "include_colab_link": true
    },
    "kernelspec": {
      "name": "python3",
      "display_name": "Python 3"
    },
    "language_info": {
      "name": "python"
    }
  },
  "cells": [
    {
      "cell_type": "markdown",
      "metadata": {
        "id": "view-in-github",
        "colab_type": "text"
      },
      "source": [
        "<a href=\"https://colab.research.google.com/github/Priyagane/Numpy_mini_project/blob/main/mini_project.ipynb\" target=\"_parent\"><img src=\"https://colab.research.google.com/assets/colab-badge.svg\" alt=\"Open In Colab\"/></a>"
      ]
    },
    {
      "cell_type": "code",
      "source": [
        "import numpy as np \n",
        "\n",
        "data_file ='/content/drive/MyDrive/Data_sets/makeSenseOfCensus.csv'\n",
        "\n",
        "data = np.genfromtxt(data_file, delimiter=\",\", skip_header=1)\n",
        "\n",
        "# printing the data\n",
        "\n",
        "print(\"\\nData: \\n\\n\", data)\n"
      ],
      "metadata": {
        "colab": {
          "base_uri": "https://localhost:8080/"
        },
        "id": "_cF3n-A3TKbf",
        "outputId": "4be431b7-d50b-4f58-fad9-d7304efca07b"
      },
      "execution_count": null,
      "outputs": [
        {
          "output_type": "stream",
          "name": "stdout",
          "text": [
            "\n",
            "Data: \n",
            "\n",
            " [[39. 13.  4. ...  0. 40.  0.]\n",
            " [50. 13.  4. ...  0. 13.  0.]\n",
            " [38.  9.  4. ...  0. 40.  0.]\n",
            " ...\n",
            " [48. 13.  4. ...  0. 58.  1.]\n",
            " [40. 10.  4. ...  0. 40.  0.]\n",
            " [39. 13.  4. ...  0. 50.  1.]]\n"
          ]
        }
      ]
    },
    {
      "cell_type": "markdown",
      "source": [
        "# New Section"
      ],
      "metadata": {
        "id": "7sJuyxs5Cq8T"
      }
    },
    {
      "cell_type": "code",
      "source": [
        "print(\"\\nType of data: \\n\\n\", type(data))"
      ],
      "metadata": {
        "colab": {
          "base_uri": "https://localhost:8080/"
        },
        "id": "o4CzvYnkf277",
        "outputId": "45368edb-7e95-4417-8b2f-72eb91513276"
      },
      "execution_count": null,
      "outputs": [
        {
          "output_type": "stream",
          "name": "stdout",
          "text": [
            "\n",
            "Type of data: \n",
            "\n",
            " <class 'numpy.ndarray'>\n"
          ]
        }
      ]
    },
    {
      "cell_type": "code",
      "source": [
        "new_record=[[50, 9, 4, 1, 0, 0, 40, 0]]\n",
        "\n",
        "data1 = np.concatenate((data,new_record))\n",
        "print(data1)"
      ],
      "metadata": {
        "colab": {
          "base_uri": "https://localhost:8080/"
        },
        "id": "G2qbd3Vmf-42",
        "outputId": "29dc639c-7ef6-426c-9003-e5a476152b3f"
      },
      "execution_count": null,
      "outputs": [
        {
          "output_type": "stream",
          "name": "stdout",
          "text": [
            "[[39. 13.  4. ...  0. 40.  0.]\n",
            " [50. 13.  4. ...  0. 13.  0.]\n",
            " [38.  9.  4. ...  0. 40.  0.]\n",
            " ...\n",
            " [40. 10.  4. ...  0. 40.  0.]\n",
            " [39. 13.  4. ...  0. 50.  1.]\n",
            " [50.  9.  4. ...  0. 40.  0.]]\n"
          ]
        }
      ]
    },
    {
      "cell_type": "code",
      "source": [
        "age = data1[:,:1]\n",
        "#print(age)"
      ],
      "metadata": {
        "id": "9wcLFZrXh3YU"
      },
      "execution_count": null,
      "outputs": []
    },
    {
      "cell_type": "code",
      "source": [
        "max_age=age.max()\n",
        "print(max_age)"
      ],
      "metadata": {
        "colab": {
          "base_uri": "https://localhost:8080/"
        },
        "id": "idneEFuOiAi-",
        "outputId": "5be33fab-9600-43f6-e88a-f65b138aed19"
      },
      "execution_count": null,
      "outputs": [
        {
          "output_type": "stream",
          "name": "stdout",
          "text": [
            "90.0\n"
          ]
        }
      ]
    },
    {
      "cell_type": "code",
      "source": [
        "min_age=age.min()\n",
        "print(min_age)"
      ],
      "metadata": {
        "colab": {
          "base_uri": "https://localhost:8080/"
        },
        "id": "aOHlY9W0t1Dp",
        "outputId": "c03b8abd-5bd8-490d-e672-44807a493731"
      },
      "execution_count": null,
      "outputs": [
        {
          "output_type": "stream",
          "name": "stdout",
          "text": [
            "17.0\n"
          ]
        }
      ]
    },
    {
      "cell_type": "code",
      "source": [
        "age_mean=age.mean()\n",
        "print(age_mean)"
      ],
      "metadata": {
        "colab": {
          "base_uri": "https://localhost:8080/"
        },
        "id": "KTcgqrKFt6vn",
        "outputId": "fe901e8c-a8cb-40fe-de57-3c08a282e82b"
      },
      "execution_count": null,
      "outputs": [
        {
          "output_type": "stream",
          "name": "stdout",
          "text": [
            "38.06293706293706\n"
          ]
        }
      ]
    },
    {
      "cell_type": "code",
      "source": [
        "age_std=age.std()\n",
        "print(age_std)"
      ],
      "metadata": {
        "colab": {
          "base_uri": "https://localhost:8080/"
        },
        "id": "yh_TUV1OuSsU",
        "outputId": "621aa801-360e-46ff-e65b-022358eaf1b8"
      },
      "execution_count": null,
      "outputs": [
        {
          "output_type": "stream",
          "name": "stdout",
          "text": [
            "13.341478176165857\n"
          ]
        }
      ]
    },
    {
      "cell_type": "code",
      "source": [
        "race_col = data1[:,2:3]\n",
        "race_0=(race_col[race_col == 0])\n",
        "print(race_0)\n",
        "race_1=(race_col[race_col == 1])\n",
        "print(race_1)\n",
        "race_2=(race_col[race_col == 2])\n",
        "print(race_2)\n",
        "race_3=(race_col[race_col == 3])\n",
        "print(race_3)\n",
        "race_4=(race_col[race_col == 4])\n",
        "print(race_4)\n"
      ],
      "metadata": {
        "colab": {
          "base_uri": "https://localhost:8080/"
        },
        "id": "6D-jXP3zvIeO",
        "outputId": "485e1e41-fc5d-403b-ab01-9baee200ae88"
      },
      "execution_count": null,
      "outputs": [
        {
          "output_type": "stream",
          "name": "stdout",
          "text": [
            "[0. 0. 0. 0. 0. 0. 0. 0. 0. 0.]\n",
            "[1. 1. 1. 1. 1. 1. 1. 1. 1. 1. 1. 1. 1. 1. 1. 1. 1. 1. 1. 1. 1. 1. 1. 1.\n",
            " 1. 1. 1.]\n",
            "[2. 2. 2. 2. 2. 2. 2. 2. 2. 2. 2. 2. 2. 2. 2. 2. 2. 2. 2. 2. 2. 2. 2. 2.\n",
            " 2. 2. 2. 2. 2. 2. 2. 2. 2. 2. 2. 2. 2. 2. 2. 2. 2. 2. 2. 2. 2. 2. 2. 2.\n",
            " 2. 2. 2. 2. 2. 2. 2. 2. 2. 2. 2. 2. 2. 2. 2. 2. 2. 2. 2. 2. 2. 2. 2. 2.\n",
            " 2. 2. 2. 2. 2. 2. 2. 2. 2. 2. 2. 2. 2. 2. 2. 2. 2. 2. 2. 2. 2. 2. 2. 2.\n",
            " 2. 2. 2. 2. 2. 2. 2. 2. 2. 2. 2. 2. 2. 2.]\n",
            "[3. 3. 3. 3. 3. 3.]\n",
            "[4. 4. 4. 4. 4. 4. 4. 4. 4. 4. 4. 4. 4. 4. 4. 4. 4. 4. 4. 4. 4. 4. 4. 4.\n",
            " 4. 4. 4. 4. 4. 4. 4. 4. 4. 4. 4. 4. 4. 4. 4. 4. 4. 4. 4. 4. 4. 4. 4. 4.\n",
            " 4. 4. 4. 4. 4. 4. 4. 4. 4. 4. 4. 4. 4. 4. 4. 4. 4. 4. 4. 4. 4. 4. 4. 4.\n",
            " 4. 4. 4. 4. 4. 4. 4. 4. 4. 4. 4. 4. 4. 4. 4. 4. 4. 4. 4. 4. 4. 4. 4. 4.\n",
            " 4. 4. 4. 4. 4. 4. 4. 4. 4. 4. 4. 4. 4. 4. 4. 4. 4. 4. 4. 4. 4. 4. 4. 4.\n",
            " 4. 4. 4. 4. 4. 4. 4. 4. 4. 4. 4. 4. 4. 4. 4. 4. 4. 4. 4. 4. 4. 4. 4. 4.\n",
            " 4. 4. 4. 4. 4. 4. 4. 4. 4. 4. 4. 4. 4. 4. 4. 4. 4. 4. 4. 4. 4. 4. 4. 4.\n",
            " 4. 4. 4. 4. 4. 4. 4. 4. 4. 4. 4. 4. 4. 4. 4. 4. 4. 4. 4. 4. 4. 4. 4. 4.\n",
            " 4. 4. 4. 4. 4. 4. 4. 4. 4. 4. 4. 4. 4. 4. 4. 4. 4. 4. 4. 4. 4. 4. 4. 4.\n",
            " 4. 4. 4. 4. 4. 4. 4. 4. 4. 4. 4. 4. 4. 4. 4. 4. 4. 4. 4. 4. 4. 4. 4. 4.\n",
            " 4. 4. 4. 4. 4. 4. 4. 4. 4. 4. 4. 4. 4. 4. 4. 4. 4. 4. 4. 4. 4. 4. 4. 4.\n",
            " 4. 4. 4. 4. 4. 4. 4. 4. 4. 4. 4. 4. 4. 4. 4. 4. 4. 4. 4. 4. 4. 4. 4. 4.\n",
            " 4. 4. 4. 4. 4. 4. 4. 4. 4. 4. 4. 4. 4. 4. 4. 4. 4. 4. 4. 4. 4. 4. 4. 4.\n",
            " 4. 4. 4. 4. 4. 4. 4. 4. 4. 4. 4. 4. 4. 4. 4. 4. 4. 4. 4. 4. 4. 4. 4. 4.\n",
            " 4. 4. 4. 4. 4. 4. 4. 4. 4. 4. 4. 4. 4. 4. 4. 4. 4. 4. 4. 4. 4. 4. 4. 4.\n",
            " 4. 4. 4. 4. 4. 4. 4. 4. 4. 4. 4. 4. 4. 4. 4. 4. 4. 4. 4. 4. 4. 4. 4. 4.\n",
            " 4. 4. 4. 4. 4. 4. 4. 4. 4. 4. 4. 4. 4. 4. 4. 4. 4. 4. 4. 4. 4. 4. 4. 4.\n",
            " 4. 4. 4. 4. 4. 4. 4. 4. 4. 4. 4. 4. 4. 4. 4. 4. 4. 4. 4. 4. 4. 4. 4. 4.\n",
            " 4. 4. 4. 4. 4. 4. 4. 4. 4. 4. 4. 4. 4. 4. 4. 4. 4. 4. 4. 4. 4. 4. 4. 4.\n",
            " 4. 4. 4. 4. 4. 4. 4. 4. 4. 4. 4. 4. 4. 4. 4. 4. 4. 4. 4. 4. 4. 4. 4. 4.\n",
            " 4. 4. 4. 4. 4. 4. 4. 4. 4. 4. 4. 4. 4. 4. 4. 4. 4. 4. 4. 4. 4. 4. 4. 4.\n",
            " 4. 4. 4. 4. 4. 4. 4. 4. 4. 4. 4. 4. 4. 4. 4. 4. 4. 4. 4. 4. 4. 4. 4. 4.\n",
            " 4. 4. 4. 4. 4. 4. 4. 4. 4. 4. 4. 4. 4. 4. 4. 4. 4. 4. 4. 4. 4. 4. 4. 4.\n",
            " 4. 4. 4. 4. 4. 4. 4. 4. 4. 4. 4. 4. 4. 4. 4. 4. 4. 4. 4. 4. 4. 4. 4. 4.\n",
            " 4. 4. 4. 4. 4. 4. 4. 4. 4. 4. 4. 4. 4. 4. 4. 4. 4. 4. 4. 4. 4. 4. 4. 4.\n",
            " 4. 4. 4. 4. 4. 4. 4. 4. 4. 4. 4. 4. 4. 4. 4. 4. 4. 4. 4. 4. 4. 4. 4. 4.\n",
            " 4. 4. 4. 4. 4. 4. 4. 4. 4. 4. 4. 4. 4. 4. 4. 4. 4. 4. 4. 4. 4. 4. 4. 4.\n",
            " 4. 4. 4. 4. 4. 4. 4. 4. 4. 4. 4. 4. 4. 4. 4. 4. 4. 4. 4. 4. 4. 4. 4. 4.\n",
            " 4. 4. 4. 4. 4. 4. 4. 4. 4. 4. 4. 4. 4. 4. 4. 4. 4. 4. 4. 4. 4. 4. 4. 4.\n",
            " 4. 4. 4. 4. 4. 4. 4. 4. 4. 4. 4. 4. 4. 4. 4. 4. 4. 4. 4. 4. 4. 4. 4. 4.\n",
            " 4. 4. 4. 4. 4. 4. 4. 4. 4. 4. 4. 4. 4. 4. 4. 4. 4. 4. 4. 4. 4. 4. 4. 4.\n",
            " 4. 4. 4. 4. 4. 4. 4. 4. 4. 4. 4. 4. 4. 4. 4. 4. 4. 4. 4. 4. 4. 4. 4. 4.\n",
            " 4. 4. 4. 4. 4. 4. 4. 4. 4. 4. 4. 4. 4. 4. 4. 4. 4. 4. 4. 4. 4. 4. 4. 4.\n",
            " 4. 4. 4. 4. 4. 4. 4. 4. 4. 4. 4. 4. 4. 4. 4. 4. 4. 4. 4. 4. 4. 4. 4. 4.\n",
            " 4. 4. 4. 4. 4. 4. 4. 4. 4. 4. 4. 4. 4. 4. 4. 4. 4. 4. 4. 4. 4. 4. 4. 4.\n",
            " 4. 4. 4. 4. 4. 4. 4. 4.]\n"
          ]
        }
      ]
    },
    {
      "cell_type": "code",
      "source": [
        "len_0=len(race_0)\n",
        "print(\"race0: \",len_0)\n",
        "len_1=len(race_1)\n",
        "print(\"race1: \",len_1)\n",
        "len_2=len(race_2)\n",
        "print(\"race2: \",len_2)\n",
        "len_3=len(race_3)\n",
        "print(\"race3: \",len_3)\n",
        "len_4=len(race_4)\n",
        "print(\"race4: \",len_4)\n",
        "\n"
      ],
      "metadata": {
        "colab": {
          "base_uri": "https://localhost:8080/"
        },
        "id": "XJ9RQ_3ozl4a",
        "outputId": "17da2900-9b11-4c59-df79-3090e8b3222d"
      },
      "execution_count": null,
      "outputs": [
        {
          "output_type": "stream",
          "name": "stdout",
          "text": [
            "race0:  10\n",
            "race1:  27\n",
            "race2:  110\n",
            "race3:  6\n",
            "race4:  848\n"
          ]
        }
      ]
    },
    {
      "cell_type": "code",
      "source": [
        "min_no_citizen = np.array([len_0,len_1,len_2,len_3,len_4])\n",
        "a = min_no_citizen.min()\n",
        "print(a) \n",
        "    \n",
        "if a==len_0:\n",
        "  print(\"race0 with the minimum no. of citizens\")\n",
        "elif a==len_1:\n",
        "  print(\"race1 with the minimum no. of citizens\")\n",
        "elif a==len_2:\n",
        "  print(\"race2 with the minimum no. of citizens\")\n",
        "elif a==len_3:\n",
        "  print(\"race2 with the minimum no. of citizens\")\n",
        "elif a==len_4:\n",
        "  print(\"race4 with the minimum no. of citizens\")\n",
        "      \n",
        "\n",
        "\n"
      ],
      "metadata": {
        "colab": {
          "base_uri": "https://localhost:8080/"
        },
        "id": "HspMkELZv4xP",
        "outputId": "1a1898c6-0f5f-4846-b9f1-c60d61aa289b"
      },
      "execution_count": null,
      "outputs": [
        {
          "output_type": "stream",
          "name": "stdout",
          "text": [
            "6\n",
            "race2 with the minimum no. of citizens\n"
          ]
        }
      ]
    },
    {
      "cell_type": "code",
      "source": [
        "minority_race = np.where(min_no_citizen == min(min_no_citizen))\n",
        "\n",
        "print(minority_race)\n",
        "print(\"Index of the race having the least no. of citizens\",minority_race[0])"
      ],
      "metadata": {
        "colab": {
          "base_uri": "https://localhost:8080/"
        },
        "id": "JKyr4P5z5pqc",
        "outputId": "07a819bc-eba4-495e-d942-2b138603d3bb"
      },
      "execution_count": null,
      "outputs": [
        {
          "output_type": "stream",
          "name": "stdout",
          "text": [
            "(array([3]),)\n",
            "Index of the race having the least no. of citizens [3]\n"
          ]
        }
      ]
    },
    {
      "cell_type": "code",
      "source": [
        "senior_citizens = age[age>60]\n",
        "print(senior_citizens)"
      ],
      "metadata": {
        "colab": {
          "base_uri": "https://localhost:8080/"
        },
        "id": "q14QixTthIxZ",
        "outputId": "6d8b4aae-13b3-491e-eb5f-f5dc9fe785d9"
      },
      "execution_count": null,
      "outputs": [
        {
          "output_type": "stream",
          "name": "stdout",
          "text": [
            "[79. 67. 76. 61. 70. 64. 71. 68. 66. 64. 90. 66. 75. 65. 64. 61. 65. 77.\n",
            " 62. 76. 63. 66. 67. 65. 62. 63. 80. 67. 63. 72. 62. 74. 67. 72. 69. 65.\n",
            " 65. 71. 70. 66. 65. 61. 61. 68. 64. 64. 62. 73. 72. 63. 62. 61. 71. 63.\n",
            " 63. 67. 81. 64. 67. 78. 63.]\n"
          ]
        }
      ]
    },
    {
      "cell_type": "code",
      "source": [
        ""
      ],
      "metadata": {
        "id": "bqDc9ANcA2zN"
      },
      "execution_count": null,
      "outputs": []
    },
    {
      "cell_type": "code",
      "source": [
        "working_hours = data1[:,6]\n",
        "\n",
        "c = np.extract(age>60,working_hours)\n",
        "working_hours_sum = sum(c)\n",
        "print(working_hours_sum)\n",
        "\n",
        "#c= working_hours[np.where(age>60)[0]]\n",
        "#print(c.size)\n",
        "#c = working_hours \n",
        "#print(c)"
      ],
      "metadata": {
        "colab": {
          "base_uri": "https://localhost:8080/"
        },
        "id": "22LJ8AkClvKI",
        "outputId": "1c977516-489b-436a-bd45-0d4c924d0af5"
      },
      "execution_count": null,
      "outputs": [
        {
          "output_type": "stream",
          "name": "stdout",
          "text": [
            "1917.0\n"
          ]
        }
      ]
    },
    {
      "cell_type": "code",
      "source": [
        "senior_citizens_len = len(senior_citizens)\n",
        "print(senior_citizens_len)"
      ],
      "metadata": {
        "colab": {
          "base_uri": "https://localhost:8080/"
        },
        "id": "sculjlLxA2_M",
        "outputId": "98f7740e-b0b6-442e-9f85-1f9e2045782f"
      },
      "execution_count": null,
      "outputs": [
        {
          "output_type": "stream",
          "name": "stdout",
          "text": [
            "61\n"
          ]
        }
      ]
    },
    {
      "cell_type": "code",
      "source": [
        "avg_working_hours = working_hours_sum/senior_citizens_len\n",
        "print(avg_working_hours)   \n",
        "if avg_working_hours < 25:\n",
        "  print(\" govt. policy is followed.\")\n",
        "else:\n",
        "  print(\" govt. policy not is followed.\")"
      ],
      "metadata": {
        "colab": {
          "base_uri": "https://localhost:8080/"
        },
        "id": "6IbU5zSrFE-S",
        "outputId": "e0015ee8-66af-4380-d8f1-2810bb4da28a"
      },
      "execution_count": null,
      "outputs": [
        {
          "output_type": "stream",
          "name": "stdout",
          "text": [
            "31.42622950819672\n",
            " govt. policy not is followed.\n"
          ]
        }
      ]
    },
    {
      "cell_type": "code",
      "source": [
        "education = data1[:,1]\n",
        "high = education[education > 10] \n",
        "low = education[education <= 10]\n",
        "print(high.size)\n",
        "print(low.size)"
      ],
      "metadata": {
        "colab": {
          "base_uri": "https://localhost:8080/"
        },
        "id": "iDgp-zq3Iwt5",
        "outputId": "5e9417d7-058a-4c12-d406-5208b1e82ac2"
      },
      "execution_count": null,
      "outputs": [
        {
          "output_type": "stream",
          "name": "stdout",
          "text": [
            "327\n",
            "674\n"
          ]
        }
      ]
    },
    {
      "cell_type": "code",
      "source": [
        "income = data1[:,7]\n",
        "pay_high = np.extract(education >10,income)\n",
        "avg_pay_high = pay_high.mean()\n",
        "pay_low = np.extract(education <=10,income)\n",
        "avg_pay_low = pay_low.mean()\n",
        "print(avg_pay_high)\n",
        "print(avg_pay_low)\n"
      ],
      "metadata": {
        "colab": {
          "base_uri": "https://localhost:8080/"
        },
        "id": "KK0oHBVFKUTo",
        "outputId": "14722562-afe3-477d-b048-2d11d1dd9bb1"
      },
      "execution_count": null,
      "outputs": [
        {
          "output_type": "stream",
          "name": "stdout",
          "text": [
            "0.42813455657492355\n",
            "0.13649851632047477\n"
          ]
        }
      ]
    },
    {
      "cell_type": "code",
      "source": [
        "if avg_pay_high > avg_pay_low:\n",
        "  print(\"Higher educated people have better pay in general\")\n",
        "else:\n",
        "  print(\"lower educated people have better pay in general\")\n"
      ],
      "metadata": {
        "colab": {
          "base_uri": "https://localhost:8080/"
        },
        "id": "4UfUxEX09513",
        "outputId": "34d6d520-63a2-41d5-9500-440315192e39"
      },
      "execution_count": null,
      "outputs": [
        {
          "output_type": "stream",
          "name": "stdout",
          "text": [
            "Higher educated people have better pay in general\n"
          ]
        }
      ]
    }
  ]
}