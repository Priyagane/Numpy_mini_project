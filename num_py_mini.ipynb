{
  "nbformat": 4,
  "nbformat_minor": 0,
  "metadata": {
    "colab": {
      "name": "num_py.ipynb",
      "provenance": [],
      "collapsed_sections": [],
      "mount_file_id": "15mPPSp4OD9IStz_LodG8oLCUcLZCHU8e",
      "authorship_tag": "ABX9TyPyEIX639QIXBXvRlM6CUkD",
      "include_colab_link": true
    },
    "kernelspec": {
      "name": "python3",
      "display_name": "Python 3"
    },
    "language_info": {
      "name": "python"
    }
  },
  "cells": [
    {
      "cell_type": "markdown",
      "metadata": {
        "id": "view-in-github",
        "colab_type": "text"
      },
      "source": [
        "<a href=\"https://colab.research.google.com/github/Priyagane/Numpy_mini_project/blob/main/num_py_mini.ipynb\" target=\"_parent\"><img src=\"https://colab.research.google.com/assets/colab-badge.svg\" alt=\"Open In Colab\"/></a>"
      ]
    },
    {
      "cell_type": "code",
      "source": [
        "lst = [10,200,90,0]\n",
        "import numpy as np\n",
        "arr = np.array(lst)\n",
        "print(arr +10)"
      ],
      "metadata": {
        "colab": {
          "base_uri": "https://localhost:8080/"
        },
        "id": "nk_L0YKSDSgA",
        "outputId": "eb22ba4e-bf70-42d6-e6d1-ebeea8d6f243"
      },
      "execution_count": null,
      "outputs": [
        {
          "output_type": "stream",
          "name": "stdout",
          "text": [
            "[ 20 210 100  10]\n"
          ]
        }
      ]
    },
    {
      "cell_type": "code",
      "source": [
        "lst = [10,20,30,40]\n",
        "import numpy as np\n",
        "import sys\n",
        "arr = np.array(lst)\n",
        "print(arr.nbytes)\n",
        "print(sys.getsizeof(lst))"
      ],
      "metadata": {
        "colab": {
          "base_uri": "https://localhost:8080/"
        },
        "id": "uG3bdJIaD9el",
        "outputId": "47a4b16d-5598-42b1-9e2d-d7c8a5f02263"
      },
      "execution_count": null,
      "outputs": [
        {
          "output_type": "stream",
          "name": "stdout",
          "text": [
            "32\n",
            "104\n"
          ]
        }
      ]
    },
    {
      "cell_type": "code",
      "execution_count": null,
      "metadata": {
        "colab": {
          "base_uri": "https://localhost:8080/"
        },
        "id": "uKF7tVtUBmPb",
        "outputId": "448af1b9-e5f3-4506-d793-d2bd9b898217"
      },
      "outputs": [
        {
          "output_type": "stream",
          "name": "stdout",
          "text": [
            "[1 2 3 4]\n",
            "------\n",
            "[[1 2 3 4]\n",
            " [5 6 7 8]]\n"
          ]
        }
      ],
      "source": [
        "import numpy as np\n",
        "a = np.array([1,2,3,4])\n",
        "b = np.array([[1,2,3,4],[5,6,7,8]])\n",
        "print(a)\n",
        "print(\"------\")\n",
        "print(b)"
      ]
    },
    {
      "cell_type": "code",
      "source": [
        "a=np.array([1,2,3,4])\n",
        "b=np.array([[1,2,3],[5,6,7],[3,8,3]])\n",
        "\n",
        "print('The shape of the array a is',a.shape)\n",
        "print('The shape of the array b is',b.shape)  \n",
        "print('The dimension of the array a is',a.ndim)\n",
        "print('The dimension of the array b is',b.ndim)  \n",
        "print('The size of the array a is ', a.size)\n",
        "print('The size of the array b is ', b.size)    \n",
        "print('The datatype of the array a is ', a.dtype)\n",
        "print('The datatype of the array b is ', b.dtype)  \n",
        "print(a.nbytes)\n",
        "print('The number of bytes in each element of the array a is ', a.itemsize)\n",
        "print('The number of bytes in each element of the array b is ', b.itemsize)"
      ],
      "metadata": {
        "colab": {
          "base_uri": "https://localhost:8080/"
        },
        "id": "sFYQu2d-1UMb",
        "outputId": "a10fac51-dcf4-40ea-a261-031add4d7d27"
      },
      "execution_count": null,
      "outputs": [
        {
          "output_type": "stream",
          "name": "stdout",
          "text": [
            "The shape of the array a is (4,)\n",
            "The shape of the array b is (3, 3)\n",
            "The dimension of the array a is 1\n",
            "The dimension of the array b is 2\n",
            "The size of the array a is  4\n",
            "The size of the array b is  9\n",
            "The datatype of the array a is  int64\n",
            "The datatype of the array b is  int64\n",
            "32\n",
            "The number of bytes in each element of the array a is  8\n",
            "The number of bytes in each element of the array b is  8\n"
          ]
        }
      ]
    },
    {
      "cell_type": "code",
      "source": [
        "print(np.array([5,6,7,8,9,6,7,8,9]).shape)"
      ],
      "metadata": {
        "colab": {
          "base_uri": "https://localhost:8080/"
        },
        "id": "nlMb1NzP4cty",
        "outputId": "e289bffc-5c46-4de9-fb0f-8d8af44adf0c"
      },
      "execution_count": null,
      "outputs": [
        {
          "output_type": "stream",
          "name": "stdout",
          "text": [
            "(9,)\n"
          ]
        }
      ]
    },
    {
      "cell_type": "code",
      "source": [
        "print(np.matrix([1,2]).shape)"
      ],
      "metadata": {
        "colab": {
          "base_uri": "https://localhost:8080/"
        },
        "id": "63XuRCkd_lr1",
        "outputId": "b21042e3-ce40-4376-9b6b-07f9dbffc4fa"
      },
      "execution_count": null,
      "outputs": [
        {
          "output_type": "stream",
          "name": "stdout",
          "text": [
            "(1, 2)\n"
          ]
        }
      ]
    },
    {
      "cell_type": "code",
      "source": [
        "print(np.eye(3))\n",
        "print(np.zeros( (4,3), dtype = 'int64' ) )\n",
        "print(np.ones((3,3), dtype= 'float64' ))"
      ],
      "metadata": {
        "colab": {
          "base_uri": "https://localhost:8080/"
        },
        "id": "0yHxFvi4AexD",
        "outputId": "a6c1eabc-d18f-4142-9db3-3189f17ce2de"
      },
      "execution_count": null,
      "outputs": [
        {
          "output_type": "stream",
          "name": "stdout",
          "text": [
            "[[1. 0. 0.]\n",
            " [0. 1. 0.]\n",
            " [0. 0. 1.]]\n",
            "[[0 0 0]\n",
            " [0 0 0]\n",
            " [0 0 0]\n",
            " [0 0 0]]\n",
            "[[1. 1. 1.]\n",
            " [1. 1. 1.]\n",
            " [1. 1. 1.]]\n"
          ]
        }
      ]
    },
    {
      "cell_type": "code",
      "source": [
        "print(np.arange(1,20,dtype='int32'))"
      ],
      "metadata": {
        "colab": {
          "base_uri": "https://localhost:8080/"
        },
        "id": "2gz_RQ2jFUFT",
        "outputId": "7c89a7d9-ca4b-4a9c-92cf-9fc72f4342cb"
      },
      "execution_count": null,
      "outputs": [
        {
          "output_type": "stream",
          "name": "stdout",
          "text": [
            "[ 1  2  3  4  5  6  7  8  9 10 11 12 13 14 15 16 17 18 19]\n"
          ]
        }
      ]
    },
    {
      "cell_type": "code",
      "source": [
        "print(np.arange(1,20,2,dtype='int8'))"
      ],
      "metadata": {
        "colab": {
          "base_uri": "https://localhost:8080/"
        },
        "id": "xTF7irhpGALp",
        "outputId": "8469bbf4-36c4-4e33-eed5-86ba56327d8f"
      },
      "execution_count": null,
      "outputs": [
        {
          "output_type": "stream",
          "name": "stdout",
          "text": [
            "[ 1  3  5  7  9 11 13 15 17 19]\n"
          ]
        }
      ]
    },
    {
      "cell_type": "code",
      "source": [
        "x=np.arange(24).reshape(4,3,2)\n",
        "print(x)\n",
        "print(x.ndim)"
      ],
      "metadata": {
        "colab": {
          "base_uri": "https://localhost:8080/"
        },
        "id": "YATBet2GDX_8",
        "outputId": "7952e271-062b-4ee5-8687-275309a5a133"
      },
      "execution_count": null,
      "outputs": [
        {
          "output_type": "stream",
          "name": "stdout",
          "text": [
            "[[[ 0  1]\n",
            "  [ 2  3]\n",
            "  [ 4  5]]\n",
            "\n",
            " [[ 6  7]\n",
            "  [ 8  9]\n",
            "  [10 11]]\n",
            "\n",
            " [[12 13]\n",
            "  [14 15]\n",
            "  [16 17]]\n",
            "\n",
            " [[18 19]\n",
            "  [20 21]\n",
            "  [22 23]]]\n",
            "3\n"
          ]
        }
      ]
    },
    {
      "cell_type": "code",
      "source": [
        "marks=np.array([20,30,40])\n",
        "Ids=np.array([0,2,4])\n",
        "print(\"Students Marks\",marks)\n",
        "print(\"Students ID\",Ids)"
      ],
      "metadata": {
        "colab": {
          "base_uri": "https://localhost:8080/"
        },
        "id": "-ZSK_lJGGW74",
        "outputId": "f1767997-be49-48f9-a0c0-5e9983986bb9"
      },
      "execution_count": null,
      "outputs": [
        {
          "output_type": "stream",
          "name": "stdout",
          "text": [
            "Students Marks [20 30 40]\n",
            "Students ID [0 2 4]\n"
          ]
        }
      ]
    },
    {
      "cell_type": "code",
      "source": [
        "import numpy as np\n",
        "arr1 =np.array([25,56,12,85,34,75])\n",
        "print(arr1)\n",
        "arr2 =np.array([42,3,86,32,856,46])\n",
        "print(arr2)\n",
        "Narr =np.random.rand(6)               \n",
        "print(Narr)\n",
        "arr1=arr1.astype(complex)\n",
        "print(arr1)"
      ],
      "metadata": {
        "colab": {
          "base_uri": "https://localhost:8080/"
        },
        "id": "f__vUwDcHDOY",
        "outputId": "3a17601f-8214-40d9-fa4a-fa28c4ff4f55"
      },
      "execution_count": null,
      "outputs": [
        {
          "output_type": "stream",
          "name": "stdout",
          "text": [
            "[25 56 12 85 34 75]\n",
            "[ 42   3  86  32 856  46]\n",
            "[0.29926164 0.07237863 0.91186555 0.22710015 0.38106109 0.54559832]\n",
            "[25.+0.j 56.+0.j 12.+0.j 85.+0.j 34.+0.j 75.+0.j]\n"
          ]
        }
      ]
    },
    {
      "cell_type": "code",
      "source": [
        "import numpy as np\n",
        "a = np.array([[1,2,3],[4,5,6],[7,8,9]])\n",
        "print(a[2][1])\n",
        "print(\"============\")\n",
        "print(a[:2,:3])\n",
        "print(\"===========\")\n",
        "print(a[2,:])\n",
        "print(\"===========\")\n",
        "print(a[0:3, 0:2])"
      ],
      "metadata": {
        "colab": {
          "base_uri": "https://localhost:8080/"
        },
        "id": "LxpTnNfIPFfQ",
        "outputId": "b95539a2-d3d2-438f-81ac-555996a5f233"
      },
      "execution_count": null,
      "outputs": [
        {
          "output_type": "stream",
          "name": "stdout",
          "text": [
            "8\n",
            "============\n",
            "[[1 2 3]\n",
            " [4 5 6]]\n",
            "===========\n",
            "[7 8 9]\n",
            "===========\n",
            "[[1 2]\n",
            " [4 5]\n",
            " [7 8]]\n"
          ]
        }
      ]
    },
    {
      "cell_type": "code",
      "source": [
        "a=np.array([[1,2],[3,4],[5,6]])\n",
        "print(a)\n",
        "print(a[[0,1,2],[0,1,0]])\n",
        "print('==========')\n",
        "print(np.array([a[0,0],a[1,1],a[2,0]]))\n",
        "print('==========')\n",
        "print(a[[0,0],[1,1]])\n",
        "print('==========')\n",
        "\n",
        "print(np.array([a[0,1],a[0,1]]))\n"
      ],
      "metadata": {
        "colab": {
          "base_uri": "https://localhost:8080/"
        },
        "id": "pcBYUOZRs5LE",
        "outputId": "e5f46d9a-6060-4d13-cd6a-086aca4893e8"
      },
      "execution_count": 47,
      "outputs": [
        {
          "output_type": "stream",
          "name": "stdout",
          "text": [
            "[[1 2]\n",
            " [3 4]\n",
            " [5 6]]\n",
            "[1 4 5]\n",
            "==========\n",
            "[1 4 5]\n",
            "==========\n",
            "[2 2]\n",
            "==========\n",
            "[2 2]\n"
          ]
        }
      ]
    },
    {
      "cell_type": "code",
      "source": [
        "a = np.array([[4,7,1],[2,5,7],[7,1,1]])\n",
        "\n",
        "# Boolean condition for values greater than 3\n",
        "mask = a > 3\n",
        "print(mask)\n",
        "\n",
        "# Masking for the above boolean condition in the array\n",
        "print(a[mask])"
      ],
      "metadata": {
        "colab": {
          "base_uri": "https://localhost:8080/"
        },
        "id": "H4YycWGe0kik",
        "outputId": "4fb579e4-615c-420f-caa9-cf27b0662358"
      },
      "execution_count": null,
      "outputs": [
        {
          "output_type": "stream",
          "name": "stdout",
          "text": [
            "[[ True  True False]\n",
            " [False  True  True]\n",
            " [ True False False]]\n",
            "[4 7 5 7 7]\n"
          ]
        }
      ]
    },
    {
      "cell_type": "code",
      "source": [
        "a = np.array([3,4.5,3+5j,0])\n",
        "print(np.isreal(a))\n",
        "print(np.iscomplex(a))\n"
      ],
      "metadata": {
        "colab": {
          "base_uri": "https://localhost:8080/"
        },
        "id": "2WGI71rE1OCj",
        "outputId": "e47f6fc8-5919-43cd-8ece-553295d3c110"
      },
      "execution_count": null,
      "outputs": [
        {
          "output_type": "stream",
          "name": "stdout",
          "text": [
            "[ True  True False  True]\n",
            "[False False  True False]\n"
          ]
        }
      ]
    },
    {
      "cell_type": "code",
      "source": [
        "import numpy as np\n",
        "arr = np.array([1,2,3,4,5,6,7])\n",
        "print(arr[arr > 2])"
      ],
      "metadata": {
        "colab": {
          "base_uri": "https://localhost:8080/"
        },
        "id": "mP6WQA515US3",
        "outputId": "63a732a8-35bf-4898-89ca-c1fda99f52db"
      },
      "execution_count": null,
      "outputs": [
        {
          "output_type": "stream",
          "name": "stdout",
          "text": [
            "[3 4 5 6 7]\n"
          ]
        }
      ]
    },
    {
      "cell_type": "code",
      "source": [
        "a = np.array([[1,2,3],[4,5,6],[7,8,9]])\n",
        "b = np.array([[10,11,12],[13,14,15],[16,17,18]])\n",
        "print(a+b)\n",
        "print(a-b)\n",
        "print(a*b)\n",
        "print(a/b)\n"
      ],
      "metadata": {
        "colab": {
          "base_uri": "https://localhost:8080/"
        },
        "id": "jvlH9mnF9D1d",
        "outputId": "8682e351-aabc-4fd5-db1f-08f0db84b7b9"
      },
      "execution_count": null,
      "outputs": [
        {
          "output_type": "stream",
          "name": "stdout",
          "text": [
            "[[11 13 15]\n",
            " [17 19 21]\n",
            " [23 25 27]]\n",
            "[[-9 -9 -9]\n",
            " [-9 -9 -9]\n",
            " [-9 -9 -9]]\n",
            "[[ 10  22  36]\n",
            " [ 52  70  90]\n",
            " [112 136 162]]\n",
            "[[0.1        0.18181818 0.25      ]\n",
            " [0.30769231 0.35714286 0.4       ]\n",
            " [0.4375     0.47058824 0.5       ]]\n"
          ]
        }
      ]
    },
    {
      "cell_type": "code",
      "source": [
        "a = np.array([[1,4,9],[16,25,36]])\n",
        "print(np.sqrt(a))"
      ],
      "metadata": {
        "colab": {
          "base_uri": "https://localhost:8080/"
        },
        "id": "jNwzRkTZ9U9I",
        "outputId": "7046410b-e8b9-49c6-d1eb-7e9b80177bbe"
      },
      "execution_count": null,
      "outputs": [
        {
          "output_type": "stream",
          "name": "stdout",
          "text": [
            "[[1. 2. 3.]\n",
            " [4. 5. 6.]]\n"
          ]
        }
      ]
    },
    {
      "cell_type": "code",
      "source": [
        "import numpy as np\n",
        "a = np.array([[2,4,17],[8,10,12],[14,16,18]])\n",
        "b = np.array([[10,11,12],[13,14,15],[16,17,18]])\n",
        "print(np.add(a,b))\n",
        "print(np.subtract(a,b))\n",
        "print(np.multiply(a,b))\n",
        "print(np.log(a))\n",
        "print(a.sum())\n",
        "print(a.min())\n",
        "print(a.min(axis=0))\n",
        "print(a.cumsum(axis=1))\n",
        "print(a.mean())\n",
        "print(np.median(a))\n",
        "print(np.corrcoef(a))\n",
        "print(np.std(a))"
      ],
      "metadata": {
        "colab": {
          "base_uri": "https://localhost:8080/"
        },
        "id": "4ONUbeYD9dxy",
        "outputId": "3e1a02a6-9f57-454f-fc34-c3f535bcd919"
      },
      "execution_count": null,
      "outputs": [
        {
          "output_type": "stream",
          "name": "stdout",
          "text": [
            "[[12 15 29]\n",
            " [21 24 27]\n",
            " [30 33 36]]\n",
            "[[-8 -7  5]\n",
            " [-5 -4 -3]\n",
            " [-2 -1  0]]\n",
            "[[ 20  44 204]\n",
            " [104 140 180]\n",
            " [224 272 324]]\n",
            "[[0.69314718 1.38629436 2.83321334]\n",
            " [2.07944154 2.30258509 2.48490665]\n",
            " [2.63905733 2.77258872 2.89037176]]\n",
            "101\n",
            "2\n",
            "[ 2  4 12]\n",
            "[[ 2  6 23]\n",
            " [ 8 18 30]\n",
            " [14 30 48]]\n",
            "11.222222222222221\n",
            "12.0\n",
            "[[1.        0.9208637 0.9208637]\n",
            " [0.9208637 1.        1.       ]\n",
            " [0.9208637 1.        1.       ]]\n",
            "5.370242654930921\n"
          ]
        }
      ]
    },
    {
      "cell_type": "code",
      "source": [
        "a = np.array([5,6,7,8])\n",
        "b = np.array([5,6,7,8])\n",
        "print(np.array_equal(a,b))"
      ],
      "metadata": {
        "colab": {
          "base_uri": "https://localhost:8080/"
        },
        "id": "5GRaysNn_oSM",
        "outputId": "f1c8d705-f7fb-427c-d116-5d0421660aef"
      },
      "execution_count": null,
      "outputs": [
        {
          "output_type": "stream",
          "name": "stdout",
          "text": [
            "True\n"
          ]
        }
      ]
    },
    {
      "cell_type": "code",
      "source": [
        "a = np.array([[2,5,7],[4,25,30]])\n",
        "\n",
        "# computes sum over columns\n",
        "print(a.sum(axis=1))\n",
        "print('==========')\n",
        "\n",
        "# computes sum over rows\n",
        "print(a.sum(axis=0))\n",
        "print('==========')\n",
        "\n",
        "# computes total sum\n",
        "print(a.sum())"
      ],
      "metadata": {
        "colab": {
          "base_uri": "https://localhost:8080/"
        },
        "id": "-zLsdiHb_0Jy",
        "outputId": "4db6d808-38ba-48dc-acff-7d6cbd4510cc"
      },
      "execution_count": null,
      "outputs": [
        {
          "output_type": "stream",
          "name": "stdout",
          "text": [
            "[14 59]\n",
            "==========\n",
            "[ 6 30 37]\n",
            "==========\n",
            "73\n"
          ]
        }
      ]
    },
    {
      "cell_type": "code",
      "source": [
        "import numpy as np\n",
        "#a = np.array([40,35,20,21,48,70]) \n",
        "a = np.array([[40,35,20],[21,48,70]]) \n",
        "\n",
        "b = a[0].min()\n",
        "\n",
        "print(\"minimum price of day one\", b)\n",
        "c = max(a[1])\n",
        "#c = a.max()\n",
        "print(\"minimum price of day one\",c)\n",
        "p =np.subtract(b,c)\n",
        "print(\"Total Profit\", abs(p))\n",
        "#day1 ,day2 = list(a)\n",
        "Ind_min = np.where(a==b)\n",
        "print(\"day1 minimum element's index value\",Ind_min)\n",
        "# Ind_max = np.where(a==c)\n",
        "# print(\"day1 minimum element's index value\",Ind_max)\n",
        "\n",
        "#list(day1).index(20)"
      ],
      "metadata": {
        "colab": {
          "base_uri": "https://localhost:8080/"
        },
        "id": "r3KcjX7buU5k",
        "outputId": "4d58918e-fef9-4488-bed7-b46649db6e64"
      },
      "execution_count": null,
      "outputs": [
        {
          "output_type": "stream",
          "name": "stdout",
          "text": [
            "minimum price of day one 20\n",
            "minimum price of day one 70\n",
            "Total Profit 50\n",
            "day1 minimum element's index value (array([0]), array([2]))\n"
          ]
        }
      ]
    },
    {
      "cell_type": "code",
      "source": [
        ""
      ],
      "metadata": {
        "id": "dXGKGLU1DWC-"
      },
      "execution_count": null,
      "outputs": []
    },
    {
      "cell_type": "code",
      "source": [
        "x = np.array([[[1, 2, 3], [3, 4, 6]],[[1, 2, 3], [3, 4, 6]],[[1, 2, 3], [3, 4, 6]]])\n",
        "y = np.array([[5, 6]])\n",
        "#np.concatenate((x, y),axis=0)\n",
        "x.shape\n",
        "print(x)\n",
        "print(\"===========\")\n",
        "print(x.shape)\n",
        "#x.reshape(3,2,2)\n",
        "#x.sum(axis=2)\n",
        "print(\"===========\")\n",
        "print(x.sum(axis=0))\n",
        "print(\"===========\")\n",
        "print(x.sum(axis=1))\n",
        "print(\"===========\")\n",
        "print(x.sum(axis=2))\n",
        "print(x.max(axis=0))\n"
      ],
      "metadata": {
        "colab": {
          "base_uri": "https://localhost:8080/"
        },
        "id": "tErgRaKFII2-",
        "outputId": "078c3961-ba5e-4b91-a329-185e3a3b0713"
      },
      "execution_count": 49,
      "outputs": [
        {
          "output_type": "stream",
          "name": "stdout",
          "text": [
            "[[[1 2 3]\n",
            "  [3 4 6]]\n",
            "\n",
            " [[1 2 3]\n",
            "  [3 4 6]]\n",
            "\n",
            " [[1 2 3]\n",
            "  [3 4 6]]]\n",
            "===========\n",
            "(3, 2, 3)\n",
            "===========\n",
            "[[ 3  6  9]\n",
            " [ 9 12 18]]\n",
            "===========\n",
            "[[4 6 9]\n",
            " [4 6 9]\n",
            " [4 6 9]]\n",
            "===========\n",
            "[[ 6 13]\n",
            " [ 6 13]\n",
            " [ 6 13]]\n",
            "[[1 2 3]\n",
            " [3 4 6]]\n"
          ]
        }
      ]
    },
    {
      "cell_type": "code",
      "source": [
        "a = np.arange(36)\n",
        "b= a.reshape(4,3,3)\n",
        "print(a)\n",
        "print(b)\n",
        "print(b[3,:,1])"
      ],
      "metadata": {
        "colab": {
          "base_uri": "https://localhost:8080/"
        },
        "id": "LVcHAWWRRv5J",
        "outputId": "24330c94-ad00-4cab-b47f-5c5b3894c8d7"
      },
      "execution_count": null,
      "outputs": [
        {
          "output_type": "stream",
          "name": "stdout",
          "text": [
            "[ 0  1  2  3  4  5  6  7  8  9 10 11 12 13 14 15 16 17 18 19 20 21 22 23\n",
            " 24 25 26 27 28 29 30 31 32 33 34 35]\n",
            "[[[ 0  1  2]\n",
            "  [ 3  4  5]\n",
            "  [ 6  7  8]]\n",
            "\n",
            " [[ 9 10 11]\n",
            "  [12 13 14]\n",
            "  [15 16 17]]\n",
            "\n",
            " [[18 19 20]\n",
            "  [21 22 23]\n",
            "  [24 25 26]]\n",
            "\n",
            " [[27 28 29]\n",
            "  [30 31 32]\n",
            "  [33 34 35]]]\n",
            "[28 31 34]\n"
          ]
        }
      ]
    },
    {
      "cell_type": "code",
      "source": [
        "import numpy as np\n",
        "print(np.arange(3) + 4)\n",
        "print(np.ones((3,3)) + np.arange(3))\n",
        "print(np.arange(3).reshape((3,1)) + np.arange(3))\n"
      ],
      "metadata": {
        "colab": {
          "base_uri": "https://localhost:8080/"
        },
        "id": "6CVXz0e8RF1V",
        "outputId": "4aae69f2-1068-4655-e29a-99064e42003f"
      },
      "execution_count": null,
      "outputs": [
        {
          "output_type": "stream",
          "name": "stdout",
          "text": [
            "[4 5 6]\n",
            "[[1. 2. 3.]\n",
            " [1. 2. 3.]\n",
            " [1. 2. 3.]]\n",
            "[[0 1 2]\n",
            " [1 2 3]\n",
            " [2 3 4]]\n"
          ]
        }
      ]
    },
    {
      "cell_type": "code",
      "source": [
        ""
      ],
      "metadata": {
        "id": "_cSYHW7fzBq4"
      },
      "execution_count": null,
      "outputs": []
    },
    {
      "cell_type": "code",
      "source": [
        "import numpy as np\n",
        "print(np.matrix([1,2,3,4]).shape)"
      ],
      "metadata": {
        "colab": {
          "base_uri": "https://localhost:8080/"
        },
        "id": "0NiXPxRAtSxr",
        "outputId": "53dc31c9-71f3-4158-fa9c-fc69047d2d58"
      },
      "execution_count": null,
      "outputs": [
        {
          "output_type": "stream",
          "name": "stdout",
          "text": [
            "(1, 4)\n"
          ]
        }
      ]
    },
    {
      "cell_type": "code",
      "source": [
        "a = np.random.random((5,5))\n",
        "print(a)\n",
        "a_min=a.min()\n",
        "a_max=a.max()\n",
        "z_norm = (a-a_min)/(a_max-a_min)\n",
        "print(z_norm)\n",
        "#print(a([0:1]))\n"
      ],
      "metadata": {
        "colab": {
          "base_uri": "https://localhost:8080/"
        },
        "id": "JIYQ0oStzBvO",
        "outputId": "3d60d685-d543-4852-e0fd-60266c747b46"
      },
      "execution_count": null,
      "outputs": [
        {
          "output_type": "stream",
          "name": "stdout",
          "text": [
            "[[0.71405416 0.99909072 0.8431182  0.3701571  0.83514957]\n",
            " [0.78613923 0.33869733 0.15652088 0.53347748 0.99199522]\n",
            " [0.3414388  0.17379424 0.4264915  0.41102829 0.20821619]\n",
            " [0.68147827 0.02909029 0.29335282 0.81406357 0.98937718]\n",
            " [0.14946865 0.75227849 0.79016647 0.36023969 0.43754888]]\n",
            "[[0.70614801 1.         0.83920366 0.35161512 0.83098858]\n",
            " [0.78046249 0.31918237 0.13137169 0.51998656 0.99268506]\n",
            " [0.32200863 0.14917927 0.40969179 0.39375034 0.18466579]\n",
            " [0.67256464 0.         0.27243548 0.80925045 0.98998605]\n",
            " [0.12410135 0.74555452 0.78461427 0.34139098 0.42109115]]\n"
          ]
        }
      ]
    },
    {
      "cell_type": "code",
      "source": [
        "import numpy as np \n",
        "\n",
        "data_file ='/content/drive/MyDrive/Data_sets/makeSenseOfCensus.csv'\n",
        "\n",
        "data = np.genfromtxt(data_file, delimiter=\",\", skip_header=1)\n",
        "\n",
        "# printing the data\n",
        "\n",
        "print(\"\\nData: \\n\\n\", data)\n"
      ],
      "metadata": {
        "colab": {
          "base_uri": "https://localhost:8080/"
        },
        "id": "_cF3n-A3TKbf",
        "outputId": "4be431b7-d50b-4f58-fad9-d7304efca07b"
      },
      "execution_count": null,
      "outputs": [
        {
          "output_type": "stream",
          "name": "stdout",
          "text": [
            "\n",
            "Data: \n",
            "\n",
            " [[39. 13.  4. ...  0. 40.  0.]\n",
            " [50. 13.  4. ...  0. 13.  0.]\n",
            " [38.  9.  4. ...  0. 40.  0.]\n",
            " ...\n",
            " [48. 13.  4. ...  0. 58.  1.]\n",
            " [40. 10.  4. ...  0. 40.  0.]\n",
            " [39. 13.  4. ...  0. 50.  1.]]\n"
          ]
        }
      ]
    },
    {
      "cell_type": "code",
      "source": [
        "print(\"\\nType of data: \\n\\n\", type(data))"
      ],
      "metadata": {
        "colab": {
          "base_uri": "https://localhost:8080/"
        },
        "id": "o4CzvYnkf277",
        "outputId": "45368edb-7e95-4417-8b2f-72eb91513276"
      },
      "execution_count": null,
      "outputs": [
        {
          "output_type": "stream",
          "name": "stdout",
          "text": [
            "\n",
            "Type of data: \n",
            "\n",
            " <class 'numpy.ndarray'>\n"
          ]
        }
      ]
    },
    {
      "cell_type": "code",
      "source": [
        "new_record=[[50, 9, 4, 1, 0, 0, 40, 0]]\n",
        "\n",
        "data1 = np.concatenate((data,new_record))\n",
        "print(data1)"
      ],
      "metadata": {
        "colab": {
          "base_uri": "https://localhost:8080/"
        },
        "id": "G2qbd3Vmf-42",
        "outputId": "29dc639c-7ef6-426c-9003-e5a476152b3f"
      },
      "execution_count": null,
      "outputs": [
        {
          "output_type": "stream",
          "name": "stdout",
          "text": [
            "[[39. 13.  4. ...  0. 40.  0.]\n",
            " [50. 13.  4. ...  0. 13.  0.]\n",
            " [38.  9.  4. ...  0. 40.  0.]\n",
            " ...\n",
            " [40. 10.  4. ...  0. 40.  0.]\n",
            " [39. 13.  4. ...  0. 50.  1.]\n",
            " [50.  9.  4. ...  0. 40.  0.]]\n"
          ]
        }
      ]
    },
    {
      "cell_type": "code",
      "source": [
        "age = data[:,:1]\n",
        "#print(age)"
      ],
      "metadata": {
        "id": "9wcLFZrXh3YU"
      },
      "execution_count": null,
      "outputs": []
    },
    {
      "cell_type": "code",
      "source": [
        "max_age=age.max()\n",
        "print(max_age)"
      ],
      "metadata": {
        "colab": {
          "base_uri": "https://localhost:8080/"
        },
        "id": "idneEFuOiAi-",
        "outputId": "5be33fab-9600-43f6-e88a-f65b138aed19"
      },
      "execution_count": null,
      "outputs": [
        {
          "output_type": "stream",
          "name": "stdout",
          "text": [
            "90.0\n"
          ]
        }
      ]
    },
    {
      "cell_type": "code",
      "source": [
        "min_age=age.min()\n",
        "print(min_age)"
      ],
      "metadata": {
        "colab": {
          "base_uri": "https://localhost:8080/"
        },
        "id": "aOHlY9W0t1Dp",
        "outputId": "c03b8abd-5bd8-490d-e672-44807a493731"
      },
      "execution_count": null,
      "outputs": [
        {
          "output_type": "stream",
          "name": "stdout",
          "text": [
            "17.0\n"
          ]
        }
      ]
    },
    {
      "cell_type": "code",
      "source": [
        "age_mean=age.mean()\n",
        "print(age_mean)"
      ],
      "metadata": {
        "colab": {
          "base_uri": "https://localhost:8080/"
        },
        "id": "KTcgqrKFt6vn",
        "outputId": "83f36bdc-c436-4184-e281-0cd9040b935b"
      },
      "execution_count": null,
      "outputs": [
        {
          "output_type": "stream",
          "name": "stdout",
          "text": [
            "38.051\n"
          ]
        }
      ]
    },
    {
      "cell_type": "code",
      "source": [
        "age_std=age.std()\n",
        "print(age_std)"
      ],
      "metadata": {
        "colab": {
          "base_uri": "https://localhost:8080/"
        },
        "id": "yh_TUV1OuSsU",
        "outputId": "1f727ab0-2bcf-4ced-d380-454df7552328"
      },
      "execution_count": null,
      "outputs": [
        {
          "output_type": "stream",
          "name": "stdout",
          "text": [
            "13.342803266180612\n"
          ]
        }
      ]
    },
    {
      "cell_type": "code",
      "source": [
        "race_col = data[:,2:3]\n",
        "race_0=(race_col[race_col == 0])\n",
        "print(race_0)\n",
        "race_1=(race_col[race_col == 1])\n",
        "print(race_1)\n",
        "race_2=(race_col[race_col == 2])\n",
        "print(race_2)\n",
        "race_3=(race_col[race_col == 3])\n",
        "print(race_3)\n",
        "race_4=(race_col[race_col == 4])\n",
        "print(race_4)\n"
      ],
      "metadata": {
        "colab": {
          "base_uri": "https://localhost:8080/"
        },
        "id": "6D-jXP3zvIeO",
        "outputId": "12ef9c66-7509-4312-e5d1-bad8d8a56943"
      },
      "execution_count": null,
      "outputs": [
        {
          "output_type": "stream",
          "name": "stdout",
          "text": [
            "[0. 0. 0. 0. 0. 0. 0. 0. 0. 0.]\n",
            "[1. 1. 1. 1. 1. 1. 1. 1. 1. 1. 1. 1. 1. 1. 1. 1. 1. 1. 1. 1. 1. 1. 1. 1.\n",
            " 1. 1. 1.]\n",
            "[2. 2. 2. 2. 2. 2. 2. 2. 2. 2. 2. 2. 2. 2. 2. 2. 2. 2. 2. 2. 2. 2. 2. 2.\n",
            " 2. 2. 2. 2. 2. 2. 2. 2. 2. 2. 2. 2. 2. 2. 2. 2. 2. 2. 2. 2. 2. 2. 2. 2.\n",
            " 2. 2. 2. 2. 2. 2. 2. 2. 2. 2. 2. 2. 2. 2. 2. 2. 2. 2. 2. 2. 2. 2. 2. 2.\n",
            " 2. 2. 2. 2. 2. 2. 2. 2. 2. 2. 2. 2. 2. 2. 2. 2. 2. 2. 2. 2. 2. 2. 2. 2.\n",
            " 2. 2. 2. 2. 2. 2. 2. 2. 2. 2. 2. 2. 2. 2.]\n",
            "[3. 3. 3. 3. 3. 3.]\n",
            "[4. 4. 4. 4. 4. 4. 4. 4. 4. 4. 4. 4. 4. 4. 4. 4. 4. 4. 4. 4. 4. 4. 4. 4.\n",
            " 4. 4. 4. 4. 4. 4. 4. 4. 4. 4. 4. 4. 4. 4. 4. 4. 4. 4. 4. 4. 4. 4. 4. 4.\n",
            " 4. 4. 4. 4. 4. 4. 4. 4. 4. 4. 4. 4. 4. 4. 4. 4. 4. 4. 4. 4. 4. 4. 4. 4.\n",
            " 4. 4. 4. 4. 4. 4. 4. 4. 4. 4. 4. 4. 4. 4. 4. 4. 4. 4. 4. 4. 4. 4. 4. 4.\n",
            " 4. 4. 4. 4. 4. 4. 4. 4. 4. 4. 4. 4. 4. 4. 4. 4. 4. 4. 4. 4. 4. 4. 4. 4.\n",
            " 4. 4. 4. 4. 4. 4. 4. 4. 4. 4. 4. 4. 4. 4. 4. 4. 4. 4. 4. 4. 4. 4. 4. 4.\n",
            " 4. 4. 4. 4. 4. 4. 4. 4. 4. 4. 4. 4. 4. 4. 4. 4. 4. 4. 4. 4. 4. 4. 4. 4.\n",
            " 4. 4. 4. 4. 4. 4. 4. 4. 4. 4. 4. 4. 4. 4. 4. 4. 4. 4. 4. 4. 4. 4. 4. 4.\n",
            " 4. 4. 4. 4. 4. 4. 4. 4. 4. 4. 4. 4. 4. 4. 4. 4. 4. 4. 4. 4. 4. 4. 4. 4.\n",
            " 4. 4. 4. 4. 4. 4. 4. 4. 4. 4. 4. 4. 4. 4. 4. 4. 4. 4. 4. 4. 4. 4. 4. 4.\n",
            " 4. 4. 4. 4. 4. 4. 4. 4. 4. 4. 4. 4. 4. 4. 4. 4. 4. 4. 4. 4. 4. 4. 4. 4.\n",
            " 4. 4. 4. 4. 4. 4. 4. 4. 4. 4. 4. 4. 4. 4. 4. 4. 4. 4. 4. 4. 4. 4. 4. 4.\n",
            " 4. 4. 4. 4. 4. 4. 4. 4. 4. 4. 4. 4. 4. 4. 4. 4. 4. 4. 4. 4. 4. 4. 4. 4.\n",
            " 4. 4. 4. 4. 4. 4. 4. 4. 4. 4. 4. 4. 4. 4. 4. 4. 4. 4. 4. 4. 4. 4. 4. 4.\n",
            " 4. 4. 4. 4. 4. 4. 4. 4. 4. 4. 4. 4. 4. 4. 4. 4. 4. 4. 4. 4. 4. 4. 4. 4.\n",
            " 4. 4. 4. 4. 4. 4. 4. 4. 4. 4. 4. 4. 4. 4. 4. 4. 4. 4. 4. 4. 4. 4. 4. 4.\n",
            " 4. 4. 4. 4. 4. 4. 4. 4. 4. 4. 4. 4. 4. 4. 4. 4. 4. 4. 4. 4. 4. 4. 4. 4.\n",
            " 4. 4. 4. 4. 4. 4. 4. 4. 4. 4. 4. 4. 4. 4. 4. 4. 4. 4. 4. 4. 4. 4. 4. 4.\n",
            " 4. 4. 4. 4. 4. 4. 4. 4. 4. 4. 4. 4. 4. 4. 4. 4. 4. 4. 4. 4. 4. 4. 4. 4.\n",
            " 4. 4. 4. 4. 4. 4. 4. 4. 4. 4. 4. 4. 4. 4. 4. 4. 4. 4. 4. 4. 4. 4. 4. 4.\n",
            " 4. 4. 4. 4. 4. 4. 4. 4. 4. 4. 4. 4. 4. 4. 4. 4. 4. 4. 4. 4. 4. 4. 4. 4.\n",
            " 4. 4. 4. 4. 4. 4. 4. 4. 4. 4. 4. 4. 4. 4. 4. 4. 4. 4. 4. 4. 4. 4. 4. 4.\n",
            " 4. 4. 4. 4. 4. 4. 4. 4. 4. 4. 4. 4. 4. 4. 4. 4. 4. 4. 4. 4. 4. 4. 4. 4.\n",
            " 4. 4. 4. 4. 4. 4. 4. 4. 4. 4. 4. 4. 4. 4. 4. 4. 4. 4. 4. 4. 4. 4. 4. 4.\n",
            " 4. 4. 4. 4. 4. 4. 4. 4. 4. 4. 4. 4. 4. 4. 4. 4. 4. 4. 4. 4. 4. 4. 4. 4.\n",
            " 4. 4. 4. 4. 4. 4. 4. 4. 4. 4. 4. 4. 4. 4. 4. 4. 4. 4. 4. 4. 4. 4. 4. 4.\n",
            " 4. 4. 4. 4. 4. 4. 4. 4. 4. 4. 4. 4. 4. 4. 4. 4. 4. 4. 4. 4. 4. 4. 4. 4.\n",
            " 4. 4. 4. 4. 4. 4. 4. 4. 4. 4. 4. 4. 4. 4. 4. 4. 4. 4. 4. 4. 4. 4. 4. 4.\n",
            " 4. 4. 4. 4. 4. 4. 4. 4. 4. 4. 4. 4. 4. 4. 4. 4. 4. 4. 4. 4. 4. 4. 4. 4.\n",
            " 4. 4. 4. 4. 4. 4. 4. 4. 4. 4. 4. 4. 4. 4. 4. 4. 4. 4. 4. 4. 4. 4. 4. 4.\n",
            " 4. 4. 4. 4. 4. 4. 4. 4. 4. 4. 4. 4. 4. 4. 4. 4. 4. 4. 4. 4. 4. 4. 4. 4.\n",
            " 4. 4. 4. 4. 4. 4. 4. 4. 4. 4. 4. 4. 4. 4. 4. 4. 4. 4. 4. 4. 4. 4. 4. 4.\n",
            " 4. 4. 4. 4. 4. 4. 4. 4. 4. 4. 4. 4. 4. 4. 4. 4. 4. 4. 4. 4. 4. 4. 4. 4.\n",
            " 4. 4. 4. 4. 4. 4. 4. 4. 4. 4. 4. 4. 4. 4. 4. 4. 4. 4. 4. 4. 4. 4. 4. 4.\n",
            " 4. 4. 4. 4. 4. 4. 4. 4. 4. 4. 4. 4. 4. 4. 4. 4. 4. 4. 4. 4. 4. 4. 4. 4.\n",
            " 4. 4. 4. 4. 4. 4. 4.]\n"
          ]
        }
      ]
    },
    {
      "cell_type": "code",
      "source": [
        "len_0=len(race_0)\n",
        "print(\"race0: \",len_0)\n",
        "len_1=len(race_1)\n",
        "print(\"race1: \",len_1)\n",
        "len_2=len(race_2)\n",
        "print(\"race2: \",len_2)\n",
        "len_3=len(race_3)\n",
        "print(\"race3: \",len_3)\n",
        "len_4=len(race_4)\n",
        "print(\"race4: \",len_4)\n",
        "\n"
      ],
      "metadata": {
        "colab": {
          "base_uri": "https://localhost:8080/"
        },
        "id": "XJ9RQ_3ozl4a",
        "outputId": "f4ff5e6d-a092-4f63-e0b6-c7056acd6c92"
      },
      "execution_count": null,
      "outputs": [
        {
          "output_type": "stream",
          "name": "stdout",
          "text": [
            "race0:  10\n",
            "race1:  27\n",
            "race2:  110\n",
            "race3:  6\n",
            "race4:  847\n"
          ]
        }
      ]
    },
    {
      "cell_type": "code",
      "source": [
        "min_no_citizen = np.array([len_0,len_1,len_2,len_3,len_4])\n",
        "a = min_no_citizen.min()\n",
        "print(a) \n",
        "    \n",
        "if a==len_0:\n",
        "  print(\"race0 with the minimum no. of citizens\")\n",
        "elif a==len_1:\n",
        "  print(\"race1 with the minimum no. of citizens\")\n",
        "elif a==len_2:\n",
        "  print(\"race2 with the minimum no. of citizens\")\n",
        "elif a==len_3:\n",
        "  print(\"race2 with the minimum no. of citizens\")\n",
        "elif a==len_4:\n",
        "  print(\"race4 with the minimum no. of citizens\")\n",
        "      \n",
        "\n",
        "\n"
      ],
      "metadata": {
        "colab": {
          "base_uri": "https://localhost:8080/"
        },
        "id": "HspMkELZv4xP",
        "outputId": "0a18545d-3de5-4b06-aab0-ecd748619149"
      },
      "execution_count": null,
      "outputs": [
        {
          "output_type": "stream",
          "name": "stdout",
          "text": [
            "6\n",
            "race2 with the minimum no. of citizens\n"
          ]
        }
      ]
    },
    {
      "cell_type": "code",
      "source": [
        "minority_race = np.where(min_no_citizen == min(min_no_citizen))\n",
        "\n",
        "print(minority_race)\n",
        "print(\"Index of the race having the least no. of citizens\",minority_race[0])"
      ],
      "metadata": {
        "colab": {
          "base_uri": "https://localhost:8080/"
        },
        "id": "JKyr4P5z5pqc",
        "outputId": "696fc89f-7f66-45ce-a689-5d45b3a116c4"
      },
      "execution_count": null,
      "outputs": [
        {
          "output_type": "stream",
          "name": "stdout",
          "text": [
            "(array([3]),)\n",
            "Index of the race having the least no. of citizens [3]\n"
          ]
        }
      ]
    },
    {
      "cell_type": "code",
      "source": [
        "senior_citizens = age[age>60]\n",
        "print(senior_citizens)"
      ],
      "metadata": {
        "colab": {
          "base_uri": "https://localhost:8080/"
        },
        "id": "q14QixTthIxZ",
        "outputId": "399404fb-7552-4b11-e90b-eb6d624327d8"
      },
      "execution_count": 51,
      "outputs": [
        {
          "output_type": "stream",
          "name": "stdout",
          "text": [
            "[79. 67. 76. 61. 70. 64. 71. 68. 66. 64. 90. 66. 75. 65. 64. 61. 65. 77.\n",
            " 62. 76. 63. 66. 67. 65. 62. 63. 80. 67. 63. 72. 62. 74. 67. 72. 69. 65.\n",
            " 65. 71. 70. 66. 65. 61. 61. 68. 64. 64. 62. 73. 72. 63. 62. 61. 71. 63.\n",
            " 63. 67. 81. 64. 67. 78. 63.]\n"
          ]
        }
      ]
    },
    {
      "cell_type": "code",
      "source": [
        ""
      ],
      "metadata": {
        "id": "bqDc9ANcA2zN"
      },
      "execution_count": null,
      "outputs": []
    },
    {
      "cell_type": "code",
      "source": [
        "working_hours = data[:,6]\n",
        "\n",
        "c = np.extract(age>60,working_hours)\n",
        "working_hours_sum = sum(c)\n",
        "print(working_hours_sum)\n",
        "\n",
        "#c= working_hours[np.where(age>60)[0]]\n",
        "#print(c.size)\n",
        "#c = working_hours \n",
        "#print(c)"
      ],
      "metadata": {
        "colab": {
          "base_uri": "https://localhost:8080/"
        },
        "id": "22LJ8AkClvKI",
        "outputId": "907bf9f1-0e10-4c29-c9c1-b6b6994df924"
      },
      "execution_count": 58,
      "outputs": [
        {
          "output_type": "stream",
          "name": "stdout",
          "text": [
            "1917.0\n"
          ]
        }
      ]
    },
    {
      "cell_type": "code",
      "source": [
        "senior_citizens_len = len(senior_citizens)\n",
        "print(senior_citizens_len)"
      ],
      "metadata": {
        "colab": {
          "base_uri": "https://localhost:8080/"
        },
        "id": "sculjlLxA2_M",
        "outputId": "dbd22b02-d62d-41c1-b2a7-9c08c2c5d64e"
      },
      "execution_count": null,
      "outputs": [
        {
          "output_type": "stream",
          "name": "stdout",
          "text": [
            "61\n"
          ]
        }
      ]
    },
    {
      "cell_type": "code",
      "source": [
        "avg_working_hours = working_hours_sum/senior_citizens_len\n",
        "print(avg_working_hours)   \n",
        "if avg_working_hours < 25:\n",
        "  print(\" govt. policy is followed.\")\n",
        "else:\n",
        "  print(\" govt. policy not is followed.\")"
      ],
      "metadata": {
        "colab": {
          "base_uri": "https://localhost:8080/"
        },
        "id": "6IbU5zSrFE-S",
        "outputId": "219c903b-22b2-4e97-89f0-403bb42be1ea"
      },
      "execution_count": null,
      "outputs": [
        {
          "output_type": "stream",
          "name": "stdout",
          "text": [
            "31.42622950819672\n",
            " govt. policy not is followed.\n"
          ]
        }
      ]
    },
    {
      "cell_type": "code",
      "source": [
        "education = data[:,1]\n",
        "high = education[education > 10] \n",
        "low = education[education <= 10]\n",
        "print(high.size)\n",
        "print(low.size)"
      ],
      "metadata": {
        "colab": {
          "base_uri": "https://localhost:8080/"
        },
        "id": "iDgp-zq3Iwt5",
        "outputId": "154bd449-c747-456a-d0c3-3ae1ef7890e1"
      },
      "execution_count": 55,
      "outputs": [
        {
          "output_type": "stream",
          "name": "stdout",
          "text": [
            "327\n",
            "673\n"
          ]
        }
      ]
    },
    {
      "cell_type": "code",
      "source": [
        "#high = education[]"
      ],
      "metadata": {
        "id": "-HYoOOXLR6iA"
      },
      "execution_count": null,
      "outputs": []
    },
    {
      "cell_type": "code",
      "source": [
        "income = data[:,7]\n",
        "pay_high = np.extract(education >10,income)\n",
        "avg_pay_high = pay_high.mean()\n",
        "pay_low = np.extract(education <=10,income)\n",
        "avg_pay_low = pay_low.mean()\n",
        "print(avg_pay_high)\n",
        "print(avg_pay_low)\n"
      ],
      "metadata": {
        "colab": {
          "base_uri": "https://localhost:8080/"
        },
        "id": "KK0oHBVFKUTo",
        "outputId": "1fd1def5-7200-45bf-c350-15208612e68f"
      },
      "execution_count": 56,
      "outputs": [
        {
          "output_type": "stream",
          "name": "stdout",
          "text": [
            "0.42813455657492355\n",
            "0.13670133729569092\n"
          ]
        }
      ]
    }
  ]
}